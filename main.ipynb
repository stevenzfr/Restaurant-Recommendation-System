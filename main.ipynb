{
  "nbformat": 4,
  "nbformat_minor": 0,
  "metadata": {
    "colab": {
      "provenance": [],
      "collapsed_sections": [
        "i3RTlqilJA5Z"
      ],
      "machine_shape": "hm"
    },
    "kernelspec": {
      "name": "python3",
      "display_name": "Python 3"
    },
    "language_info": {
      "name": "python"
    }
  },
  "cells": [
    {
      "cell_type": "markdown",
      "source": [
        "Environment Setup"
      ],
      "metadata": {
        "id": "fH2Yt4btB-nA"
      }
    },
    {
      "cell_type": "code",
      "execution_count": null,
      "metadata": {
        "id": "CPAKJPasBhbI"
      },
      "outputs": [],
      "source": [
        "import pandas as pd\n",
        "import numpy as np\n",
        "import matplotlib.pyplot as plt\n",
        "import seaborn as sns\n",
        "from collections import Counter\n",
        "\n",
        "import pickle\n",
        "\n",
        "from tensorflow.keras.preprocessing.sequence import pad_sequences\n",
        "from tensorflow.keras.preprocessing.text import Tokenizer\n",
        "\n",
        "\n",
        "import tensorflow as tf\n",
        "from tensorflow.keras import regularizers, optimizers, metrics\n",
        "from tensorflow.keras.optimizers import Adadelta\n",
        "from tensorflow.keras.optimizers import SGD\n",
        "\n",
        "\n",
        "import sklearn as sklearn\n",
        "from sklearn.model_selection import cross_val_score\n",
        "from sklearn.model_selection import KFold\n",
        "\n",
        "from sklearn.model_selection import train_test_split\n",
        "\n",
        "import warnings\n",
        "warnings.filterwarnings(\"ignore\")"
      ]
    },
    {
      "cell_type": "markdown",
      "source": [
        "## Dataset load"
      ],
      "metadata": {
        "id": "2PpngzKcCRic"
      }
    },
    {
      "cell_type": "code",
      "source": [
        "review_df = pd.read_csv('/content/drive/MyDrive/data/yelp_review.csv')\n",
        "review_df.head()"
      ],
      "metadata": {
        "colab": {
          "base_uri": "https://localhost:8080/",
          "height": 206
        },
        "id": "Y8fJ4ekUCVUB",
        "outputId": "f328838d-7a3a-480d-9df3-6fc4862fbdcd"
      },
      "execution_count": null,
      "outputs": [
        {
          "output_type": "execute_result",
          "data": {
            "text/plain": [
              "                review_id                 user_id             business_id  \\\n",
              "0  vkVSCC7xljjrAI4UGfnKEQ  bv2nCi5Qv5vroFiqKGopiw  AEx2SYEUJmTxVVB18LlCwA   \n",
              "1  n6QzIUObkYshz4dz2QRJTw  bv2nCi5Qv5vroFiqKGopiw  VR6GpWIda3SfvPC-lg9H3w   \n",
              "2  MV3CcKScW05u5LVfF6ok0g  bv2nCi5Qv5vroFiqKGopiw  CKC0-MOWMqoeWf6s-szl8g   \n",
              "3  IXvOzsEMYtiJI0CARmj77Q  bv2nCi5Qv5vroFiqKGopiw  ACFtxLv8pGrrxMm6EgjreA   \n",
              "4  L_9BTb55X0GDtThi6GlZ6w  bv2nCi5Qv5vroFiqKGopiw  s2I_Ni76bjJNK9yG60iD-Q   \n",
              "\n",
              "   stars        date                                               text  \\\n",
              "0      5  2016-05-28  Super simple place but amazing nonetheless. It...   \n",
              "1      5  2016-05-28  Small unassuming place that changes their menu...   \n",
              "2      5  2016-05-28  Lester's is located in a beautiful neighborhoo...   \n",
              "3      4  2016-05-28  Love coming here. Yes the place always needs t...   \n",
              "4      4  2016-05-28  Had their chocolate almond croissant and it wa...   \n",
              "\n",
              "   useful  funny  cool  \n",
              "0       0      0     0  \n",
              "1       0      0     0  \n",
              "2       0      0     0  \n",
              "3       0      0     0  \n",
              "4       0      0     0  "
            ],
            "text/html": [
              "\n",
              "  <div id=\"df-e1974889-95af-4ce4-9fbb-2ea1aed40e23\" class=\"colab-df-container\">\n",
              "    <div>\n",
              "<style scoped>\n",
              "    .dataframe tbody tr th:only-of-type {\n",
              "        vertical-align: middle;\n",
              "    }\n",
              "\n",
              "    .dataframe tbody tr th {\n",
              "        vertical-align: top;\n",
              "    }\n",
              "\n",
              "    .dataframe thead th {\n",
              "        text-align: right;\n",
              "    }\n",
              "</style>\n",
              "<table border=\"1\" class=\"dataframe\">\n",
              "  <thead>\n",
              "    <tr style=\"text-align: right;\">\n",
              "      <th></th>\n",
              "      <th>review_id</th>\n",
              "      <th>user_id</th>\n",
              "      <th>business_id</th>\n",
              "      <th>stars</th>\n",
              "      <th>date</th>\n",
              "      <th>text</th>\n",
              "      <th>useful</th>\n",
              "      <th>funny</th>\n",
              "      <th>cool</th>\n",
              "    </tr>\n",
              "  </thead>\n",
              "  <tbody>\n",
              "    <tr>\n",
              "      <th>0</th>\n",
              "      <td>vkVSCC7xljjrAI4UGfnKEQ</td>\n",
              "      <td>bv2nCi5Qv5vroFiqKGopiw</td>\n",
              "      <td>AEx2SYEUJmTxVVB18LlCwA</td>\n",
              "      <td>5</td>\n",
              "      <td>2016-05-28</td>\n",
              "      <td>Super simple place but amazing nonetheless. It...</td>\n",
              "      <td>0</td>\n",
              "      <td>0</td>\n",
              "      <td>0</td>\n",
              "    </tr>\n",
              "    <tr>\n",
              "      <th>1</th>\n",
              "      <td>n6QzIUObkYshz4dz2QRJTw</td>\n",
              "      <td>bv2nCi5Qv5vroFiqKGopiw</td>\n",
              "      <td>VR6GpWIda3SfvPC-lg9H3w</td>\n",
              "      <td>5</td>\n",
              "      <td>2016-05-28</td>\n",
              "      <td>Small unassuming place that changes their menu...</td>\n",
              "      <td>0</td>\n",
              "      <td>0</td>\n",
              "      <td>0</td>\n",
              "    </tr>\n",
              "    <tr>\n",
              "      <th>2</th>\n",
              "      <td>MV3CcKScW05u5LVfF6ok0g</td>\n",
              "      <td>bv2nCi5Qv5vroFiqKGopiw</td>\n",
              "      <td>CKC0-MOWMqoeWf6s-szl8g</td>\n",
              "      <td>5</td>\n",
              "      <td>2016-05-28</td>\n",
              "      <td>Lester's is located in a beautiful neighborhoo...</td>\n",
              "      <td>0</td>\n",
              "      <td>0</td>\n",
              "      <td>0</td>\n",
              "    </tr>\n",
              "    <tr>\n",
              "      <th>3</th>\n",
              "      <td>IXvOzsEMYtiJI0CARmj77Q</td>\n",
              "      <td>bv2nCi5Qv5vroFiqKGopiw</td>\n",
              "      <td>ACFtxLv8pGrrxMm6EgjreA</td>\n",
              "      <td>4</td>\n",
              "      <td>2016-05-28</td>\n",
              "      <td>Love coming here. Yes the place always needs t...</td>\n",
              "      <td>0</td>\n",
              "      <td>0</td>\n",
              "      <td>0</td>\n",
              "    </tr>\n",
              "    <tr>\n",
              "      <th>4</th>\n",
              "      <td>L_9BTb55X0GDtThi6GlZ6w</td>\n",
              "      <td>bv2nCi5Qv5vroFiqKGopiw</td>\n",
              "      <td>s2I_Ni76bjJNK9yG60iD-Q</td>\n",
              "      <td>4</td>\n",
              "      <td>2016-05-28</td>\n",
              "      <td>Had their chocolate almond croissant and it wa...</td>\n",
              "      <td>0</td>\n",
              "      <td>0</td>\n",
              "      <td>0</td>\n",
              "    </tr>\n",
              "  </tbody>\n",
              "</table>\n",
              "</div>\n",
              "    <div class=\"colab-df-buttons\">\n",
              "\n",
              "  <div class=\"colab-df-container\">\n",
              "    <button class=\"colab-df-convert\" onclick=\"convertToInteractive('df-e1974889-95af-4ce4-9fbb-2ea1aed40e23')\"\n",
              "            title=\"Convert this dataframe to an interactive table.\"\n",
              "            style=\"display:none;\">\n",
              "\n",
              "  <svg xmlns=\"http://www.w3.org/2000/svg\" height=\"24px\" viewBox=\"0 -960 960 960\">\n",
              "    <path d=\"M120-120v-720h720v720H120Zm60-500h600v-160H180v160Zm220 220h160v-160H400v160Zm0 220h160v-160H400v160ZM180-400h160v-160H180v160Zm440 0h160v-160H620v160ZM180-180h160v-160H180v160Zm440 0h160v-160H620v160Z\"/>\n",
              "  </svg>\n",
              "    </button>\n",
              "\n",
              "  <style>\n",
              "    .colab-df-container {\n",
              "      display:flex;\n",
              "      gap: 12px;\n",
              "    }\n",
              "\n",
              "    .colab-df-convert {\n",
              "      background-color: #E8F0FE;\n",
              "      border: none;\n",
              "      border-radius: 50%;\n",
              "      cursor: pointer;\n",
              "      display: none;\n",
              "      fill: #1967D2;\n",
              "      height: 32px;\n",
              "      padding: 0 0 0 0;\n",
              "      width: 32px;\n",
              "    }\n",
              "\n",
              "    .colab-df-convert:hover {\n",
              "      background-color: #E2EBFA;\n",
              "      box-shadow: 0px 1px 2px rgba(60, 64, 67, 0.3), 0px 1px 3px 1px rgba(60, 64, 67, 0.15);\n",
              "      fill: #174EA6;\n",
              "    }\n",
              "\n",
              "    .colab-df-buttons div {\n",
              "      margin-bottom: 4px;\n",
              "    }\n",
              "\n",
              "    [theme=dark] .colab-df-convert {\n",
              "      background-color: #3B4455;\n",
              "      fill: #D2E3FC;\n",
              "    }\n",
              "\n",
              "    [theme=dark] .colab-df-convert:hover {\n",
              "      background-color: #434B5C;\n",
              "      box-shadow: 0px 1px 3px 1px rgba(0, 0, 0, 0.15);\n",
              "      filter: drop-shadow(0px 1px 2px rgba(0, 0, 0, 0.3));\n",
              "      fill: #FFFFFF;\n",
              "    }\n",
              "  </style>\n",
              "\n",
              "    <script>\n",
              "      const buttonEl =\n",
              "        document.querySelector('#df-e1974889-95af-4ce4-9fbb-2ea1aed40e23 button.colab-df-convert');\n",
              "      buttonEl.style.display =\n",
              "        google.colab.kernel.accessAllowed ? 'block' : 'none';\n",
              "\n",
              "      async function convertToInteractive(key) {\n",
              "        const element = document.querySelector('#df-e1974889-95af-4ce4-9fbb-2ea1aed40e23');\n",
              "        const dataTable =\n",
              "          await google.colab.kernel.invokeFunction('convertToInteractive',\n",
              "                                                    [key], {});\n",
              "        if (!dataTable) return;\n",
              "\n",
              "        const docLinkHtml = 'Like what you see? Visit the ' +\n",
              "          '<a target=\"_blank\" href=https://colab.research.google.com/notebooks/data_table.ipynb>data table notebook</a>'\n",
              "          + ' to learn more about interactive tables.';\n",
              "        element.innerHTML = '';\n",
              "        dataTable['output_type'] = 'display_data';\n",
              "        await google.colab.output.renderOutput(dataTable, element);\n",
              "        const docLink = document.createElement('div');\n",
              "        docLink.innerHTML = docLinkHtml;\n",
              "        element.appendChild(docLink);\n",
              "      }\n",
              "    </script>\n",
              "  </div>\n",
              "\n",
              "\n",
              "<div id=\"df-9e063895-ce69-443a-848d-0db134cf58da\">\n",
              "  <button class=\"colab-df-quickchart\" onclick=\"quickchart('df-9e063895-ce69-443a-848d-0db134cf58da')\"\n",
              "            title=\"Suggest charts\"\n",
              "            style=\"display:none;\">\n",
              "\n",
              "<svg xmlns=\"http://www.w3.org/2000/svg\" height=\"24px\"viewBox=\"0 0 24 24\"\n",
              "     width=\"24px\">\n",
              "    <g>\n",
              "        <path d=\"M19 3H5c-1.1 0-2 .9-2 2v14c0 1.1.9 2 2 2h14c1.1 0 2-.9 2-2V5c0-1.1-.9-2-2-2zM9 17H7v-7h2v7zm4 0h-2V7h2v10zm4 0h-2v-4h2v4z\"/>\n",
              "    </g>\n",
              "</svg>\n",
              "  </button>\n",
              "\n",
              "<style>\n",
              "  .colab-df-quickchart {\n",
              "      --bg-color: #E8F0FE;\n",
              "      --fill-color: #1967D2;\n",
              "      --hover-bg-color: #E2EBFA;\n",
              "      --hover-fill-color: #174EA6;\n",
              "      --disabled-fill-color: #AAA;\n",
              "      --disabled-bg-color: #DDD;\n",
              "  }\n",
              "\n",
              "  [theme=dark] .colab-df-quickchart {\n",
              "      --bg-color: #3B4455;\n",
              "      --fill-color: #D2E3FC;\n",
              "      --hover-bg-color: #434B5C;\n",
              "      --hover-fill-color: #FFFFFF;\n",
              "      --disabled-bg-color: #3B4455;\n",
              "      --disabled-fill-color: #666;\n",
              "  }\n",
              "\n",
              "  .colab-df-quickchart {\n",
              "    background-color: var(--bg-color);\n",
              "    border: none;\n",
              "    border-radius: 50%;\n",
              "    cursor: pointer;\n",
              "    display: none;\n",
              "    fill: var(--fill-color);\n",
              "    height: 32px;\n",
              "    padding: 0;\n",
              "    width: 32px;\n",
              "  }\n",
              "\n",
              "  .colab-df-quickchart:hover {\n",
              "    background-color: var(--hover-bg-color);\n",
              "    box-shadow: 0 1px 2px rgba(60, 64, 67, 0.3), 0 1px 3px 1px rgba(60, 64, 67, 0.15);\n",
              "    fill: var(--button-hover-fill-color);\n",
              "  }\n",
              "\n",
              "  .colab-df-quickchart-complete:disabled,\n",
              "  .colab-df-quickchart-complete:disabled:hover {\n",
              "    background-color: var(--disabled-bg-color);\n",
              "    fill: var(--disabled-fill-color);\n",
              "    box-shadow: none;\n",
              "  }\n",
              "\n",
              "  .colab-df-spinner {\n",
              "    border: 2px solid var(--fill-color);\n",
              "    border-color: transparent;\n",
              "    border-bottom-color: var(--fill-color);\n",
              "    animation:\n",
              "      spin 1s steps(1) infinite;\n",
              "  }\n",
              "\n",
              "  @keyframes spin {\n",
              "    0% {\n",
              "      border-color: transparent;\n",
              "      border-bottom-color: var(--fill-color);\n",
              "      border-left-color: var(--fill-color);\n",
              "    }\n",
              "    20% {\n",
              "      border-color: transparent;\n",
              "      border-left-color: var(--fill-color);\n",
              "      border-top-color: var(--fill-color);\n",
              "    }\n",
              "    30% {\n",
              "      border-color: transparent;\n",
              "      border-left-color: var(--fill-color);\n",
              "      border-top-color: var(--fill-color);\n",
              "      border-right-color: var(--fill-color);\n",
              "    }\n",
              "    40% {\n",
              "      border-color: transparent;\n",
              "      border-right-color: var(--fill-color);\n",
              "      border-top-color: var(--fill-color);\n",
              "    }\n",
              "    60% {\n",
              "      border-color: transparent;\n",
              "      border-right-color: var(--fill-color);\n",
              "    }\n",
              "    80% {\n",
              "      border-color: transparent;\n",
              "      border-right-color: var(--fill-color);\n",
              "      border-bottom-color: var(--fill-color);\n",
              "    }\n",
              "    90% {\n",
              "      border-color: transparent;\n",
              "      border-bottom-color: var(--fill-color);\n",
              "    }\n",
              "  }\n",
              "</style>\n",
              "\n",
              "  <script>\n",
              "    async function quickchart(key) {\n",
              "      const quickchartButtonEl =\n",
              "        document.querySelector('#' + key + ' button');\n",
              "      quickchartButtonEl.disabled = true;  // To prevent multiple clicks.\n",
              "      quickchartButtonEl.classList.add('colab-df-spinner');\n",
              "      try {\n",
              "        const charts = await google.colab.kernel.invokeFunction(\n",
              "            'suggestCharts', [key], {});\n",
              "      } catch (error) {\n",
              "        console.error('Error during call to suggestCharts:', error);\n",
              "      }\n",
              "      quickchartButtonEl.classList.remove('colab-df-spinner');\n",
              "      quickchartButtonEl.classList.add('colab-df-quickchart-complete');\n",
              "    }\n",
              "    (() => {\n",
              "      let quickchartButtonEl =\n",
              "        document.querySelector('#df-9e063895-ce69-443a-848d-0db134cf58da button');\n",
              "      quickchartButtonEl.style.display =\n",
              "        google.colab.kernel.accessAllowed ? 'block' : 'none';\n",
              "    })();\n",
              "  </script>\n",
              "</div>\n",
              "\n",
              "    </div>\n",
              "  </div>\n"
            ],
            "application/vnd.google.colaboratory.intrinsic+json": {
              "type": "dataframe",
              "variable_name": "review_df"
            }
          },
          "metadata": {},
          "execution_count": 27
        }
      ]
    },
    {
      "cell_type": "code",
      "source": [
        "business_df = pd.read_csv('/content/drive/MyDrive/data/yelp_academic_dataset_business_3.csv')\n",
        "business_df.head()"
      ],
      "metadata": {
        "colab": {
          "base_uri": "https://localhost:8080/",
          "height": 536
        },
        "id": "_EoMF2MJDR3U",
        "outputId": "3a631238-5bf3-48ec-f141-94d8f72724d7"
      },
      "execution_count": null,
      "outputs": [
        {
          "output_type": "execute_result",
          "data": {
            "text/plain": [
              "                         address                             name  stars  \\\n",
              "0    2818 E Camino Acequia Drive        Arizona Biltmore Golf Clu    3.0   \n",
              "1           30 Eglinton Avenue W       Emerald Chinese Restaurant    2.5   \n",
              "2       10110 Johnston Rd Ste 15      Musashi Japanese Restaurant    4.0   \n",
              "3   15655 W Roosevelt St Ste 237  Farmers Insurance - Paul Lorenz    5.0   \n",
              "4  4209 Stuart Andrew Blvd Ste F              Queen City Plumbing    4.0   \n",
              "\n",
              "    longitude postal_code                business_id   latitude  review_count  \\\n",
              "0 -112.018481       85016  b'1SWheh84yJXfytovILXOAQ'  33.522143             5   \n",
              "1  -79.652289     L5R 3E7  b'QXAEGFB4oINsVuTFxEYKFQ'  43.605499           128   \n",
              "2  -80.859132       28210  b'gnKjwL_1w79qoiV3IC_xQQ'  35.092564           170   \n",
              "3 -112.395596       85338  b'xvX2CttrVhyG2z1dFg_0xw'  33.455613             3   \n",
              "4  -80.887223       28217  b'HhyxOkGAM07SRYtlQ4wMFQ'  35.190012             4   \n",
              "\n",
              "                                          categories         city  is_open  \\\n",
              "0                                  Golf| Active Life      Phoenix        0   \n",
              "1  Specialty Food| Restaurants| Dim Sum| Imported...  Mississauga        1   \n",
              "2                  Sushi Bars| Restaurants| Japanese    Charlotte        1   \n",
              "3                      Insurance| Financial Services     Goodyear        1   \n",
              "4  Plumbing| Shopping| Local Services| Home Servi...    Charlotte        1   \n",
              "\n",
              "                                               hours  \\\n",
              "0                                                NaN   \n",
              "1  Monday@ 9:0-0:0| Tuesday@ 9:0-0:0| Wednesday@ ...   \n",
              "2  Monday@ 17:30-21:30| Wednesday@ 17:30-21:30| T...   \n",
              "3  Monday@ 8:0-17:0| Tuesday@ 8:0-17:0| Wednesday...   \n",
              "4  Monday@ 7:0-23:0| Tuesday@ 7:0-23:0| Wednesday...   \n",
              "\n",
              "                                          attributes state  \n",
              "0                               {GoodForKids: False}    AZ  \n",
              "1  {RestaurantsReservations: True, GoodForMeal: {...    ON  \n",
              "2  {GoodForKids: True, NoiseLevel: uaverage, Rest...    NC  \n",
              "3                                                NaN    AZ  \n",
              "4  {BusinessAcceptsBitcoin: False, ByAppointmentO...    NC  "
            ],
            "text/html": [
              "\n",
              "  <div id=\"df-2ab69579-5c30-42ef-b0ac-2b5dd5cd066c\" class=\"colab-df-container\">\n",
              "    <div>\n",
              "<style scoped>\n",
              "    .dataframe tbody tr th:only-of-type {\n",
              "        vertical-align: middle;\n",
              "    }\n",
              "\n",
              "    .dataframe tbody tr th {\n",
              "        vertical-align: top;\n",
              "    }\n",
              "\n",
              "    .dataframe thead th {\n",
              "        text-align: right;\n",
              "    }\n",
              "</style>\n",
              "<table border=\"1\" class=\"dataframe\">\n",
              "  <thead>\n",
              "    <tr style=\"text-align: right;\">\n",
              "      <th></th>\n",
              "      <th>address</th>\n",
              "      <th>name</th>\n",
              "      <th>stars</th>\n",
              "      <th>longitude</th>\n",
              "      <th>postal_code</th>\n",
              "      <th>business_id</th>\n",
              "      <th>latitude</th>\n",
              "      <th>review_count</th>\n",
              "      <th>categories</th>\n",
              "      <th>city</th>\n",
              "      <th>is_open</th>\n",
              "      <th>hours</th>\n",
              "      <th>attributes</th>\n",
              "      <th>state</th>\n",
              "    </tr>\n",
              "  </thead>\n",
              "  <tbody>\n",
              "    <tr>\n",
              "      <th>0</th>\n",
              "      <td>2818 E Camino Acequia Drive</td>\n",
              "      <td>Arizona Biltmore Golf Clu</td>\n",
              "      <td>3.0</td>\n",
              "      <td>-112.018481</td>\n",
              "      <td>85016</td>\n",
              "      <td>b'1SWheh84yJXfytovILXOAQ'</td>\n",
              "      <td>33.522143</td>\n",
              "      <td>5</td>\n",
              "      <td>Golf| Active Life</td>\n",
              "      <td>Phoenix</td>\n",
              "      <td>0</td>\n",
              "      <td>NaN</td>\n",
              "      <td>{GoodForKids: False}</td>\n",
              "      <td>AZ</td>\n",
              "    </tr>\n",
              "    <tr>\n",
              "      <th>1</th>\n",
              "      <td>30 Eglinton Avenue W</td>\n",
              "      <td>Emerald Chinese Restaurant</td>\n",
              "      <td>2.5</td>\n",
              "      <td>-79.652289</td>\n",
              "      <td>L5R 3E7</td>\n",
              "      <td>b'QXAEGFB4oINsVuTFxEYKFQ'</td>\n",
              "      <td>43.605499</td>\n",
              "      <td>128</td>\n",
              "      <td>Specialty Food| Restaurants| Dim Sum| Imported...</td>\n",
              "      <td>Mississauga</td>\n",
              "      <td>1</td>\n",
              "      <td>Monday@ 9:0-0:0| Tuesday@ 9:0-0:0| Wednesday@ ...</td>\n",
              "      <td>{RestaurantsReservations: True, GoodForMeal: {...</td>\n",
              "      <td>ON</td>\n",
              "    </tr>\n",
              "    <tr>\n",
              "      <th>2</th>\n",
              "      <td>10110 Johnston Rd Ste 15</td>\n",
              "      <td>Musashi Japanese Restaurant</td>\n",
              "      <td>4.0</td>\n",
              "      <td>-80.859132</td>\n",
              "      <td>28210</td>\n",
              "      <td>b'gnKjwL_1w79qoiV3IC_xQQ'</td>\n",
              "      <td>35.092564</td>\n",
              "      <td>170</td>\n",
              "      <td>Sushi Bars| Restaurants| Japanese</td>\n",
              "      <td>Charlotte</td>\n",
              "      <td>1</td>\n",
              "      <td>Monday@ 17:30-21:30| Wednesday@ 17:30-21:30| T...</td>\n",
              "      <td>{GoodForKids: True, NoiseLevel: uaverage, Rest...</td>\n",
              "      <td>NC</td>\n",
              "    </tr>\n",
              "    <tr>\n",
              "      <th>3</th>\n",
              "      <td>15655 W Roosevelt St Ste 237</td>\n",
              "      <td>Farmers Insurance - Paul Lorenz</td>\n",
              "      <td>5.0</td>\n",
              "      <td>-112.395596</td>\n",
              "      <td>85338</td>\n",
              "      <td>b'xvX2CttrVhyG2z1dFg_0xw'</td>\n",
              "      <td>33.455613</td>\n",
              "      <td>3</td>\n",
              "      <td>Insurance| Financial Services</td>\n",
              "      <td>Goodyear</td>\n",
              "      <td>1</td>\n",
              "      <td>Monday@ 8:0-17:0| Tuesday@ 8:0-17:0| Wednesday...</td>\n",
              "      <td>NaN</td>\n",
              "      <td>AZ</td>\n",
              "    </tr>\n",
              "    <tr>\n",
              "      <th>4</th>\n",
              "      <td>4209 Stuart Andrew Blvd Ste F</td>\n",
              "      <td>Queen City Plumbing</td>\n",
              "      <td>4.0</td>\n",
              "      <td>-80.887223</td>\n",
              "      <td>28217</td>\n",
              "      <td>b'HhyxOkGAM07SRYtlQ4wMFQ'</td>\n",
              "      <td>35.190012</td>\n",
              "      <td>4</td>\n",
              "      <td>Plumbing| Shopping| Local Services| Home Servi...</td>\n",
              "      <td>Charlotte</td>\n",
              "      <td>1</td>\n",
              "      <td>Monday@ 7:0-23:0| Tuesday@ 7:0-23:0| Wednesday...</td>\n",
              "      <td>{BusinessAcceptsBitcoin: False, ByAppointmentO...</td>\n",
              "      <td>NC</td>\n",
              "    </tr>\n",
              "  </tbody>\n",
              "</table>\n",
              "</div>\n",
              "    <div class=\"colab-df-buttons\">\n",
              "\n",
              "  <div class=\"colab-df-container\">\n",
              "    <button class=\"colab-df-convert\" onclick=\"convertToInteractive('df-2ab69579-5c30-42ef-b0ac-2b5dd5cd066c')\"\n",
              "            title=\"Convert this dataframe to an interactive table.\"\n",
              "            style=\"display:none;\">\n",
              "\n",
              "  <svg xmlns=\"http://www.w3.org/2000/svg\" height=\"24px\" viewBox=\"0 -960 960 960\">\n",
              "    <path d=\"M120-120v-720h720v720H120Zm60-500h600v-160H180v160Zm220 220h160v-160H400v160Zm0 220h160v-160H400v160ZM180-400h160v-160H180v160Zm440 0h160v-160H620v160ZM180-180h160v-160H180v160Zm440 0h160v-160H620v160Z\"/>\n",
              "  </svg>\n",
              "    </button>\n",
              "\n",
              "  <style>\n",
              "    .colab-df-container {\n",
              "      display:flex;\n",
              "      gap: 12px;\n",
              "    }\n",
              "\n",
              "    .colab-df-convert {\n",
              "      background-color: #E8F0FE;\n",
              "      border: none;\n",
              "      border-radius: 50%;\n",
              "      cursor: pointer;\n",
              "      display: none;\n",
              "      fill: #1967D2;\n",
              "      height: 32px;\n",
              "      padding: 0 0 0 0;\n",
              "      width: 32px;\n",
              "    }\n",
              "\n",
              "    .colab-df-convert:hover {\n",
              "      background-color: #E2EBFA;\n",
              "      box-shadow: 0px 1px 2px rgba(60, 64, 67, 0.3), 0px 1px 3px 1px rgba(60, 64, 67, 0.15);\n",
              "      fill: #174EA6;\n",
              "    }\n",
              "\n",
              "    .colab-df-buttons div {\n",
              "      margin-bottom: 4px;\n",
              "    }\n",
              "\n",
              "    [theme=dark] .colab-df-convert {\n",
              "      background-color: #3B4455;\n",
              "      fill: #D2E3FC;\n",
              "    }\n",
              "\n",
              "    [theme=dark] .colab-df-convert:hover {\n",
              "      background-color: #434B5C;\n",
              "      box-shadow: 0px 1px 3px 1px rgba(0, 0, 0, 0.15);\n",
              "      filter: drop-shadow(0px 1px 2px rgba(0, 0, 0, 0.3));\n",
              "      fill: #FFFFFF;\n",
              "    }\n",
              "  </style>\n",
              "\n",
              "    <script>\n",
              "      const buttonEl =\n",
              "        document.querySelector('#df-2ab69579-5c30-42ef-b0ac-2b5dd5cd066c button.colab-df-convert');\n",
              "      buttonEl.style.display =\n",
              "        google.colab.kernel.accessAllowed ? 'block' : 'none';\n",
              "\n",
              "      async function convertToInteractive(key) {\n",
              "        const element = document.querySelector('#df-2ab69579-5c30-42ef-b0ac-2b5dd5cd066c');\n",
              "        const dataTable =\n",
              "          await google.colab.kernel.invokeFunction('convertToInteractive',\n",
              "                                                    [key], {});\n",
              "        if (!dataTable) return;\n",
              "\n",
              "        const docLinkHtml = 'Like what you see? Visit the ' +\n",
              "          '<a target=\"_blank\" href=https://colab.research.google.com/notebooks/data_table.ipynb>data table notebook</a>'\n",
              "          + ' to learn more about interactive tables.';\n",
              "        element.innerHTML = '';\n",
              "        dataTable['output_type'] = 'display_data';\n",
              "        await google.colab.output.renderOutput(dataTable, element);\n",
              "        const docLink = document.createElement('div');\n",
              "        docLink.innerHTML = docLinkHtml;\n",
              "        element.appendChild(docLink);\n",
              "      }\n",
              "    </script>\n",
              "  </div>\n",
              "\n",
              "\n",
              "<div id=\"df-31d57229-b883-4798-821c-295993bf0216\">\n",
              "  <button class=\"colab-df-quickchart\" onclick=\"quickchart('df-31d57229-b883-4798-821c-295993bf0216')\"\n",
              "            title=\"Suggest charts\"\n",
              "            style=\"display:none;\">\n",
              "\n",
              "<svg xmlns=\"http://www.w3.org/2000/svg\" height=\"24px\"viewBox=\"0 0 24 24\"\n",
              "     width=\"24px\">\n",
              "    <g>\n",
              "        <path d=\"M19 3H5c-1.1 0-2 .9-2 2v14c0 1.1.9 2 2 2h14c1.1 0 2-.9 2-2V5c0-1.1-.9-2-2-2zM9 17H7v-7h2v7zm4 0h-2V7h2v10zm4 0h-2v-4h2v4z\"/>\n",
              "    </g>\n",
              "</svg>\n",
              "  </button>\n",
              "\n",
              "<style>\n",
              "  .colab-df-quickchart {\n",
              "      --bg-color: #E8F0FE;\n",
              "      --fill-color: #1967D2;\n",
              "      --hover-bg-color: #E2EBFA;\n",
              "      --hover-fill-color: #174EA6;\n",
              "      --disabled-fill-color: #AAA;\n",
              "      --disabled-bg-color: #DDD;\n",
              "  }\n",
              "\n",
              "  [theme=dark] .colab-df-quickchart {\n",
              "      --bg-color: #3B4455;\n",
              "      --fill-color: #D2E3FC;\n",
              "      --hover-bg-color: #434B5C;\n",
              "      --hover-fill-color: #FFFFFF;\n",
              "      --disabled-bg-color: #3B4455;\n",
              "      --disabled-fill-color: #666;\n",
              "  }\n",
              "\n",
              "  .colab-df-quickchart {\n",
              "    background-color: var(--bg-color);\n",
              "    border: none;\n",
              "    border-radius: 50%;\n",
              "    cursor: pointer;\n",
              "    display: none;\n",
              "    fill: var(--fill-color);\n",
              "    height: 32px;\n",
              "    padding: 0;\n",
              "    width: 32px;\n",
              "  }\n",
              "\n",
              "  .colab-df-quickchart:hover {\n",
              "    background-color: var(--hover-bg-color);\n",
              "    box-shadow: 0 1px 2px rgba(60, 64, 67, 0.3), 0 1px 3px 1px rgba(60, 64, 67, 0.15);\n",
              "    fill: var(--button-hover-fill-color);\n",
              "  }\n",
              "\n",
              "  .colab-df-quickchart-complete:disabled,\n",
              "  .colab-df-quickchart-complete:disabled:hover {\n",
              "    background-color: var(--disabled-bg-color);\n",
              "    fill: var(--disabled-fill-color);\n",
              "    box-shadow: none;\n",
              "  }\n",
              "\n",
              "  .colab-df-spinner {\n",
              "    border: 2px solid var(--fill-color);\n",
              "    border-color: transparent;\n",
              "    border-bottom-color: var(--fill-color);\n",
              "    animation:\n",
              "      spin 1s steps(1) infinite;\n",
              "  }\n",
              "\n",
              "  @keyframes spin {\n",
              "    0% {\n",
              "      border-color: transparent;\n",
              "      border-bottom-color: var(--fill-color);\n",
              "      border-left-color: var(--fill-color);\n",
              "    }\n",
              "    20% {\n",
              "      border-color: transparent;\n",
              "      border-left-color: var(--fill-color);\n",
              "      border-top-color: var(--fill-color);\n",
              "    }\n",
              "    30% {\n",
              "      border-color: transparent;\n",
              "      border-left-color: var(--fill-color);\n",
              "      border-top-color: var(--fill-color);\n",
              "      border-right-color: var(--fill-color);\n",
              "    }\n",
              "    40% {\n",
              "      border-color: transparent;\n",
              "      border-right-color: var(--fill-color);\n",
              "      border-top-color: var(--fill-color);\n",
              "    }\n",
              "    60% {\n",
              "      border-color: transparent;\n",
              "      border-right-color: var(--fill-color);\n",
              "    }\n",
              "    80% {\n",
              "      border-color: transparent;\n",
              "      border-right-color: var(--fill-color);\n",
              "      border-bottom-color: var(--fill-color);\n",
              "    }\n",
              "    90% {\n",
              "      border-color: transparent;\n",
              "      border-bottom-color: var(--fill-color);\n",
              "    }\n",
              "  }\n",
              "</style>\n",
              "\n",
              "  <script>\n",
              "    async function quickchart(key) {\n",
              "      const quickchartButtonEl =\n",
              "        document.querySelector('#' + key + ' button');\n",
              "      quickchartButtonEl.disabled = true;  // To prevent multiple clicks.\n",
              "      quickchartButtonEl.classList.add('colab-df-spinner');\n",
              "      try {\n",
              "        const charts = await google.colab.kernel.invokeFunction(\n",
              "            'suggestCharts', [key], {});\n",
              "      } catch (error) {\n",
              "        console.error('Error during call to suggestCharts:', error);\n",
              "      }\n",
              "      quickchartButtonEl.classList.remove('colab-df-spinner');\n",
              "      quickchartButtonEl.classList.add('colab-df-quickchart-complete');\n",
              "    }\n",
              "    (() => {\n",
              "      let quickchartButtonEl =\n",
              "        document.querySelector('#df-31d57229-b883-4798-821c-295993bf0216 button');\n",
              "      quickchartButtonEl.style.display =\n",
              "        google.colab.kernel.accessAllowed ? 'block' : 'none';\n",
              "    })();\n",
              "  </script>\n",
              "</div>\n",
              "\n",
              "    </div>\n",
              "  </div>\n"
            ],
            "application/vnd.google.colaboratory.intrinsic+json": {
              "type": "dataframe",
              "variable_name": "business_df"
            }
          },
          "metadata": {},
          "execution_count": 2
        }
      ]
    },
    {
      "cell_type": "code",
      "source": [
        "review_df.shape"
      ],
      "metadata": {
        "colab": {
          "base_uri": "https://localhost:8080/"
        },
        "id": "rkhoe0lnMsIg",
        "outputId": "a34cdd57-e745-479a-c175-0312314e0942"
      },
      "execution_count": null,
      "outputs": [
        {
          "output_type": "execute_result",
          "data": {
            "text/plain": [
              "(5261668, 9)"
            ]
          },
          "metadata": {},
          "execution_count": 9
        }
      ]
    },
    {
      "cell_type": "code",
      "source": [
        "business_df.shape"
      ],
      "metadata": {
        "colab": {
          "base_uri": "https://localhost:8080/"
        },
        "id": "bNl822uHM6o9",
        "outputId": "525954dc-4d87-4bf9-b54c-ad0062087ebd"
      },
      "execution_count": null,
      "outputs": [
        {
          "output_type": "execute_result",
          "data": {
            "text/plain": [
              "(192609, 14)"
            ]
          },
          "metadata": {},
          "execution_count": 10
        }
      ]
    },
    {
      "cell_type": "markdown",
      "source": [
        "## EDA"
      ],
      "metadata": {
        "id": "i3RTlqilJA5Z"
      }
    },
    {
      "cell_type": "code",
      "source": [
        "all_categories = []\n",
        "for category_list in business_df['categories'].dropna():\n",
        "    all_categories.extend(category_list.split('|'))\n",
        "\n",
        "category_counts = Counter(all_categories)\n",
        "\n",
        "top_categories = dict(category_counts.most_common(30))\n",
        "\n",
        "plt.figure(figsize=(10, 8))\n",
        "sns.barplot(x=list(top_categories.values()), y=list(top_categories.keys()),palette='viridis')\n",
        "plt.title('Top 30 Business Categories')\n",
        "plt.xlabel('Number of Businesses')\n",
        "plt.ylabel('Category')\n",
        "plt.xticks(rotation=45)\n",
        "plt.show()"
      ],
      "metadata": {
        "colab": {
          "base_uri": "https://localhost:8080/",
          "height": 832
        },
        "id": "DoGhOW5VEUNR",
        "outputId": "c893f96e-101e-431b-f0cd-16128ebe6d3f"
      },
      "execution_count": null,
      "outputs": [
        {
          "output_type": "stream",
          "name": "stderr",
          "text": [
            "<ipython-input-23-dfc97b3fc893>:10: FutureWarning: \n",
            "\n",
            "Passing `palette` without assigning `hue` is deprecated and will be removed in v0.14.0. Assign the `y` variable to `hue` and set `legend=False` for the same effect.\n",
            "\n",
            "  sns.barplot(x=list(top_categories.values()), y=list(top_categories.keys()),palette='viridis')\n"
          ]
        },
        {
          "output_type": "display_data",
          "data": {
            "text/plain": [
              "<Figure size 1000x800 with 1 Axes>"
            ],
            "image/png": "[encoded data removed]"
          },
          "metadata": {}
        }
      ]
    },
    {
      "cell_type": "code",
      "source": [
        "plt.figure(figsize=(10, 6))\n",
        "sns.countplot(data=business_df, x='stars', palette='viridis')\n",
        "plt.title('Distribution of Ratings (Stars)')\n",
        "plt.xlabel('Rating (Stars)')\n",
        "plt.ylabel('Count')\n",
        "plt.show()"
      ],
      "metadata": {
        "colab": {
          "base_uri": "https://localhost:8080/",
          "height": 651
        },
        "id": "UyLinYzTXoD1",
        "outputId": "5761fe4c-bc42-4225-9f71-522e74d7fe42"
      },
      "execution_count": null,
      "outputs": [
        {
          "output_type": "stream",
          "name": "stderr",
          "text": [
            "<ipython-input-29-eba76631bbe6>:2: FutureWarning: \n",
            "\n",
            "Passing `palette` without assigning `hue` is deprecated and will be removed in v0.14.0. Assign the `x` variable to `hue` and set `legend=False` for the same effect.\n",
            "\n",
            "  sns.countplot(data=business_df, x='stars', palette='viridis')\n"
          ]
        },
        {
          "output_type": "display_data",
          "data": {
            "text/plain": [
              "<Figure size 1000x600 with 1 Axes>"
            ],
            "image/png": "[encoded data removed]"
          },
          "metadata": {}
        }
      ]
    },
    {
      "cell_type": "code",
      "source": [
        "cuisines = ['Mexican', 'Italian', 'Chinese', 'Japanese', 'Indian', 'Thai']\n",
        "cuisine_counts = {cuisine: category_counts[cuisine] for cuisine in cuisines if cuisine in category_counts}\n",
        "\n",
        "# Sorting the cuisines by count\n",
        "sorted_cuisines = dict(sorted(cuisine_counts.items(), key=lambda item: item[1], reverse=True))\n",
        "\n",
        "# Creating a bar chart for the top 6 frequent cuisines\n",
        "plt.figure(figsize=(10, 6))\n",
        "sns.barplot(x=list(sorted_cuisines.keys()), y=list(sorted_cuisines.values()), palette='Spectral')\n",
        "plt.title('Top 6 Frequent Cuisines')\n",
        "plt.xlabel('Cuisine')\n",
        "plt.ylabel('Number of Businesses')\n",
        "plt.show()"
      ],
      "metadata": {
        "colab": {
          "base_uri": "https://localhost:8080/",
          "height": 651
        },
        "id": "6KjT_W9Hc5rC",
        "outputId": "978a0f80-5515-4172-a6cc-5eade4cf5a75"
      },
      "execution_count": null,
      "outputs": [
        {
          "output_type": "stream",
          "name": "stderr",
          "text": [
            "<ipython-input-30-b797fe650990>:9: FutureWarning: \n",
            "\n",
            "Passing `palette` without assigning `hue` is deprecated and will be removed in v0.14.0. Assign the `x` variable to `hue` and set `legend=False` for the same effect.\n",
            "\n",
            "  sns.barplot(x=list(sorted_cuisines.keys()), y=list(sorted_cuisines.values()), palette='Spectral')\n"
          ]
        },
        {
          "output_type": "display_data",
          "data": {
            "text/plain": [
              "<Figure size 1000x600 with 1 Axes>"
            ],
            "image/png": "[encoded data removed]"
          },
          "metadata": {}
        }
      ]
    },
    {
      "cell_type": "code",
      "source": [
        "top_10_cities = business_df['city'].value_counts().head(10)\n",
        "\n",
        "plt.figure(figsize=(10, 6))\n",
        "sns.barplot(x=top_10_cities.values, y=top_10_cities.index, palette='rocket')\n",
        "plt.title('Top 10 Cities by Number of Businesses')\n",
        "plt.xlabel('Number of Businesses')\n",
        "plt.ylabel('City')\n",
        "plt.show()"
      ],
      "metadata": {
        "colab": {
          "base_uri": "https://localhost:8080/",
          "height": 651
        },
        "id": "ItSpDJEvd7i6",
        "outputId": "75332b29-106c-4877-ceee-858842f34849"
      },
      "execution_count": null,
      "outputs": [
        {
          "output_type": "stream",
          "name": "stderr",
          "text": [
            "<ipython-input-31-c804ca10efa2>:4: FutureWarning: \n",
            "\n",
            "Passing `palette` without assigning `hue` is deprecated and will be removed in v0.14.0. Assign the `y` variable to `hue` and set `legend=False` for the same effect.\n",
            "\n",
            "  sns.barplot(x=top_10_cities.values, y=top_10_cities.index, palette='rocket')\n"
          ]
        },
        {
          "output_type": "display_data",
          "data": {
            "text/plain": [
              "<Figure size 1000x600 with 1 Axes>"
            ],
            "image/png": "[encoded data removed]"
          },
          "metadata": {}
        }
      ]
    },
    {
      "cell_type": "markdown",
      "source": [
        "## Review Cleaning and Extraction"
      ],
      "metadata": {
        "id": "rbzmmJ31I3cA"
      }
    },
    {
      "cell_type": "code",
      "source": [
        "import nltk\n",
        "from nltk.corpus import stopwords\n",
        "from nltk.stem import PorterStemmer\n",
        "from nltk.tokenize import word_tokenize\n",
        "import string\n",
        "import pandas as pd\n",
        "import re\n",
        "import nltk\n",
        "nltk.download('omw-1.4')\n",
        "nltk.download('stopwords')\n",
        "nltk.download('wordnet')\n",
        "nltk.download('words')"
      ],
      "metadata": {
        "colab": {
          "base_uri": "https://localhost:8080/"
        },
        "id": "9RSE1yKJ--MY",
        "outputId": "2269908d-8adb-4870-a2a4-c8c18ea9f84a"
      },
      "execution_count": null,
      "outputs": [
        {
          "output_type": "stream",
          "name": "stderr",
          "text": [
            "[nltk_data] Downloading package omw-1.4 to /root/nltk_data...\n",
            "[nltk_data] Downloading package stopwords to /root/nltk_data...\n",
            "[nltk_data]   Unzipping corpora/stopwords.zip.\n",
            "[nltk_data] Downloading package wordnet to /root/nltk_data...\n",
            "[nltk_data] Downloading package words to /root/nltk_data...\n",
            "[nltk_data]   Unzipping corpora/words.zip.\n"
          ]
        },
        {
          "output_type": "execute_result",
          "data": {
            "text/plain": [
              "True"
            ]
          },
          "metadata": {},
          "execution_count": 22
        }
      ]
    },
    {
      "cell_type": "code",
      "source": [
        "stopword = nltk.corpus.stopwords.words('english')\n",
        "wn = nltk.WordNetLemmatizer()\n",
        "ps = nltk.PorterStemmer()\n",
        "words = set(nltk.corpus.words.words())\n",
        "\n",
        "def clean_text(text):\n",
        "\n",
        "    # convert to lower case\n",
        "    text = text.lower()\n",
        "    # removing links\n",
        "    text = re.sub(r\"http\\S+\", \"\", text)\n",
        "    text = re.sub(r\"www.\\S+\", \"\", text)\n",
        "    # removing punctuations\n",
        "    text_links_removed = \"\".join([char for char in text if char not in string.punctuation])\n",
        "    # removing stop words\n",
        "    text_cleaned = \" \".join([word for word in re.split('\\W+', text_links_removed) if word not in stopword])\n",
        "    # lemmatizing\n",
        "    text = \" \".join([wn.lemmatize(word) for word in re.split('\\W+', text_cleaned)])\n",
        "    return text"
      ],
      "metadata": {
        "id": "C4p3FDsxASl9"
      },
      "execution_count": null,
      "outputs": []
    },
    {
      "cell_type": "code",
      "source": [
        "## Do the Classification by ratings\n",
        "\n",
        "# Only extracted 50000 rows for my model now to test my model and word tokenization\n",
        "# I will add more samples to increase the model accuracy later\n",
        "\n",
        "\n",
        "MAX_ROW = 50000\n",
        "df1 = review_df[review_df[\"stars\"] == 1].iloc[:MAX_ROW]\n",
        "df2 = review_df[review_df[\"stars\"] == 2].iloc[:MAX_ROW]\n",
        "df3 = review_df[review_df[\"stars\"] == 3].iloc[:MAX_ROW]\n",
        "df4 = review_df[review_df[\"stars\"] == 4].iloc[:MAX_ROW]\n",
        "df5 = review_df[review_df[\"stars\"] == 5].iloc[:MAX_ROW]"
      ],
      "metadata": {
        "id": "_vu1eC0iEm25"
      },
      "execution_count": null,
      "outputs": []
    },
    {
      "cell_type": "code",
      "source": [
        "# clean the reviews by removing non-words\n",
        "\n",
        "for i in df1.index:\n",
        "    review = clean_text(df1[\"text\"][i])\n",
        "    df1.loc[i,\"Review\"] = review\n",
        "for i in df2.index:\n",
        "    review = clean_text(df2[\"text\"][i])\n",
        "    df2.loc[i,\"Review\"] = review\n",
        "for i in df3.index:\n",
        "    review = clean_text(df3[\"text\"][i])\n",
        "    df3.loc[i,\"Review\"] = review\n",
        "for i in df4.index:\n",
        "    review = clean_text(df4[\"text\"][i])\n",
        "    df4.loc[i,\"Review\"] = review\n",
        "for i in df5.index:\n",
        "    review = clean_text(df5[\"text\"][i])\n",
        "    df5.loc[i,\"Review\"] = review"
      ],
      "metadata": {
        "id": "nN_EXuYPE5qv"
      },
      "execution_count": null,
      "outputs": []
    },
    {
      "cell_type": "code",
      "source": [
        "## Split the dataset into 50000 for training and 10000 for validation\n",
        "\n",
        "TRAIN_SIZE = 40000\n",
        "df1_train = df1.iloc[:TRAIN_SIZE]\n",
        "df2_train = df2.iloc[:TRAIN_SIZE]\n",
        "df3_train = df3.iloc[:TRAIN_SIZE]\n",
        "df4_train = df4.iloc[:TRAIN_SIZE]\n",
        "df5_train = df5.iloc[:TRAIN_SIZE]\n",
        "df1_valid = df1.iloc[TRAIN_SIZE:]\n",
        "df2_valid = df2.iloc[TRAIN_SIZE:]\n",
        "df3_valid = df3.iloc[TRAIN_SIZE:]\n",
        "df4_valid = df4.iloc[TRAIN_SIZE:]\n",
        "df5_valid = df5.iloc[TRAIN_SIZE:]\n"
      ],
      "metadata": {
        "id": "nMWFU9wHFhQx"
      },
      "execution_count": null,
      "outputs": []
    },
    {
      "cell_type": "code",
      "source": [
        "## Concatenate the training datasets\n",
        "train_rev_df = pd.concat([df1_train.loc[:, \"Review\"], df2_train.loc[:, \"Review\"], df3_train.loc[:, \"Review\"], df4_train.loc[:, \"Review\"], df5_train.loc[:, \"Review\"]])\n",
        "train_star_df = pd.concat([df1_train.loc[:, \"stars\"], df2_train.loc[:, \"stars\"], df3_train.loc[:, \"stars\"], df4_train.loc[:, \"stars\"], df5_train.loc[:, \"stars\"]])\n",
        "\n",
        "\n",
        "# Concatenate the validation datasets\n",
        "valid_rev_df = pd.concat([df1_valid.loc[:, \"Review\"], df2_valid.loc[:, \"Review\"], df3_valid.loc[:, \"Review\"], df4_valid.loc[:, \"Review\"], df5_valid.loc[:, \"Review\"]])\n",
        "valid_star_df = pd.concat([df1_valid.loc[:, \"stars\"], df2_valid.loc[:, \"stars\"], df3_valid.loc[:, \"stars\"], df4_valid.loc[:, \"stars\"], df5_valid.loc[:, \"stars\"]])\n",
        "\n",
        "\n",
        "# Store the reviews and stars in numpy array list\n",
        "train_rev = np.array(train_rev_df.tolist())\n",
        "train_star = np.array(train_star_df.tolist())\n",
        "valid_rev = np.array(valid_rev_df.tolist())\n",
        "valid_star = np.array(valid_star_df.tolist())"
      ],
      "metadata": {
        "id": "bKFKm97FGa5i"
      },
      "execution_count": null,
      "outputs": []
    },
    {
      "cell_type": "code",
      "source": [
        "train_rev"
      ],
      "metadata": {
        "colab": {
          "base_uri": "https://localhost:8080/"
        },
        "id": "_0nCyCRwG5ag",
        "outputId": "7b52cb19-a04d-4957-99eb-d846064ef48c"
      },
      "execution_count": null,
      "outputs": [
        {
          "output_type": "execute_result",
          "data": {
            "text/plain": [
              "array(['thought tidy flower great reputation florist guess wrong valentine day boyfriend ordered rose tidy however flower delivered ordered placed order long stem rose mixed orchid charged showed small vase 4 short cut rose green table ornament really valentine day flower speaking another friend something similar happened fiancee ordered dozen rose valentine day germany surprise never showed called complaint actually called friend confirm whether received flower didnt said would resend deliver wrong place understanding valentine day busiest day florist mistake happen way handled would expected florist nature',\n",
              "       'trying book appt use voucher month countless phone call response yet agree buyer beware warning wish review place posted previous purchase voucher',\n",
              "       'really excited hear restaurant coming toronto finally opened friend really excited try place service great felt like forgotten u didnt care service everything came one time friend ordered ginger beer came two separate time almost go back make thats long took absolutely vegetarian option except one cold noodle mushroom bun vegetarian pork belly bun nothing special piece meat bun vegetarian friend ordered bun plain could experience well literally gave u plain sauce kimchi momofuko ramen awful bland mushy bite couldnt handle eating anymore momofuko place go want real ramen ive better experience instant noodle',\n",
              "       ...,\n",
              "       'marius completely customer oriented concerned cleanliness home completely impressed service received would highly recommend using company',\n",
              "       'husband recently rescued pit bull puppy soon brought home realized experience walking leash horrible every time went walk would anxiety bad going knew could get control would never able go anywhere outside home found allamerican k9 dog training online decided look first hesitant spending money lot discussion decided really nothing lose month training bob decided might best money ever spent take maze anywhere want go longer fear going act stay right side focus received several compliment stranger well behaved dog issue canine companion please invest future get trained bob decision never regret ryan heather maze',\n",
              "       'best homemade potato chip ive ever everyone table enjoyed dish well chicken fried steak sandwich bacon cheeseburger california burger quesadilla definitely come back'],\n",
              "      dtype='<U4750')"
            ]
          },
          "metadata": {},
          "execution_count": 17
        }
      ]
    },
    {
      "cell_type": "code",
      "source": [
        "train_rev.shape"
      ],
      "metadata": {
        "colab": {
          "base_uri": "https://localhost:8080/"
        },
        "id": "XtgNfY1PJgEY",
        "outputId": "dcfac786-dbf2-482a-b9fd-6f814df81b9f"
      },
      "execution_count": null,
      "outputs": [
        {
          "output_type": "execute_result",
          "data": {
            "text/plain": [
              "(200000,)"
            ]
          },
          "metadata": {},
          "execution_count": 18
        }
      ]
    },
    {
      "cell_type": "code",
      "source": [
        "train_star"
      ],
      "metadata": {
        "colab": {
          "base_uri": "https://localhost:8080/"
        },
        "id": "vS5EYLETHPaW",
        "outputId": "5e2f0eaf-aa7b-40ee-f5e8-1980fa1ac266"
      },
      "execution_count": null,
      "outputs": [
        {
          "output_type": "execute_result",
          "data": {
            "text/plain": [
              "array([1, 1, 1, ..., 5, 5, 5])"
            ]
          },
          "metadata": {},
          "execution_count": 19
        }
      ]
    },
    {
      "cell_type": "code",
      "source": [
        "train_star"
      ],
      "metadata": {
        "colab": {
          "base_uri": "https://localhost:8080/"
        },
        "id": "Y7wy93VvJkMy",
        "outputId": "55d5610c-899d-4ebb-ad0d-2e347054d4a9"
      },
      "execution_count": null,
      "outputs": [
        {
          "output_type": "execute_result",
          "data": {
            "text/plain": [
              "array([1, 1, 1, ..., 5, 5, 5])"
            ]
          },
          "metadata": {},
          "execution_count": 20
        }
      ]
    },
    {
      "cell_type": "markdown",
      "source": [
        "## Word Tokenization"
      ],
      "metadata": {
        "id": "edcnba7OJHcJ"
      }
    },
    {
      "cell_type": "code",
      "source": [
        "from tensorflow.keras.preprocessing.sequence import pad_sequences\n",
        "from tensorflow.keras.preprocessing.text import Tokenizer\n",
        "\n",
        "tokenizer  = Tokenizer()\n",
        "tokenizer.fit_on_texts(train_rev)\n",
        "word_index = tokenizer.word_index\n",
        "vocabulary = len(word_index)\n",
        "train_seq = tokenizer.texts_to_sequences(train_rev)\n",
        "valid_seq = tokenizer.texts_to_sequences(valid_rev)\n",
        "\n",
        "max_len = 200\n",
        "train_seq = pad_sequences(train_seq, padding='post', maxlen=max_len)\n",
        "valid_seq = pad_sequences(valid_seq, padding='post', maxlen=max_len)"
      ],
      "metadata": {
        "id": "nJkz-0nsIXVL"
      },
      "execution_count": null,
      "outputs": []
    },
    {
      "cell_type": "code",
      "source": [
        "train_seq"
      ],
      "metadata": {
        "colab": {
          "base_uri": "https://localhost:8080/"
        },
        "id": "sJDVN_uAIrKn",
        "outputId": "6cc3099a-200e-4504-cfbe-fbf8158b2fce"
      },
      "execution_count": null,
      "outputs": [
        {
          "output_type": "execute_result",
          "data": {
            "text/plain": [
              "array([[   166,   6176,   1910, ...,      0,      0,      0],\n",
              "       [   257,    715,   2411, ...,      0,      0,      0],\n",
              "       [    13,    635,    712, ...,      0,      0,      0],\n",
              "       ...,\n",
              "       [192370,    455,     59, ...,      0,      0,      0],\n",
              "       [   262,    668,  14975, ...,      0,      0,      0],\n",
              "       [    52,   1219,    304, ...,      0,      0,      0]], dtype=int32)"
            ]
          },
          "metadata": {},
          "execution_count": 16
        }
      ]
    },
    {
      "cell_type": "code",
      "source": [
        "train_seq.shape"
      ],
      "metadata": {
        "colab": {
          "base_uri": "https://localhost:8080/"
        },
        "id": "FoxwQ7rxIuN5",
        "outputId": "c6e80289-92b1-4123-ac81-69e16e170028"
      },
      "execution_count": null,
      "outputs": [
        {
          "output_type": "execute_result",
          "data": {
            "text/plain": [
              "(200000, 200)"
            ]
          },
          "metadata": {},
          "execution_count": 17
        }
      ]
    },
    {
      "cell_type": "code",
      "source": [
        "from keras.preprocessing.text import one_hot\n",
        "\n",
        "train_one_hot = []\n",
        "for t in train_rev:\n",
        "  train_one_hot.append(one_hot(t, len(word_index)))\n",
        "train_one_hot = pad_sequences(train_one_hot, maxlen=max_len, padding='post')\n",
        "\n",
        "valid_one_hot = []\n",
        "for v in valid_rev:\n",
        "  valid_one_hot.append(one_hot(v, len(word_index)))\n",
        "valid_one_hot = pad_sequences(valid_one_hot, maxlen=max_len, padding='post')"
      ],
      "metadata": {
        "id": "nN8ZGjlKLCNZ"
      },
      "execution_count": null,
      "outputs": []
    },
    {
      "cell_type": "code",
      "source": [
        "train_star = tf.one_hot(train_star, 6)\n",
        "valid_star = tf.one_hot(valid_star, 6)"
      ],
      "metadata": {
        "id": "OmIxa718LGda"
      },
      "execution_count": null,
      "outputs": []
    },
    {
      "cell_type": "markdown",
      "source": [
        "## Build the LSTM model for the review stars classification\n"
      ],
      "metadata": {
        "id": "rGWXbO51JP_h"
      }
    },
    {
      "cell_type": "code",
      "source": [
        "import tensorflow as tf\n",
        "from tensorflow.keras import regularizers, optimizers, metrics\n",
        "from tensorflow.keras.optimizers import Adadelta\n",
        "from tensorflow.keras.optimizers import SGD\n",
        "\n",
        "tf.random.set_seed(42)\n",
        "\n",
        "def build_model():\n",
        "    model = tf.keras.Sequential()\n",
        "    # add embedding layer\n",
        "    model.add(tf.keras.layers.Embedding(vocabulary+1, 8, input_length=max_len))\n",
        "    # add Bidirectional LSTM Layer\n",
        "    model.add(tf.keras.layers.Bidirectional(tf.keras.layers.LSTM(64, return_sequences=True)))\n",
        "    model.add(tf.keras.layers.Flatten())\n",
        "\n",
        "    # Dense layer to help the model learning more complex relationships between input and output\n",
        "    model.add(tf.keras.layers.Dense(64, activation=\"relu\"))\n",
        "    # Dropout layer to prevent overfitting\n",
        "    model.add(tf.keras.layers.Dropout(0.5))\n",
        "    model.add(tf.keras.layers.BatchNormalization())\n",
        "\n",
        "    # Final output layer\n",
        "    model.add(tf.keras.layers.Dense(6, activation=\"softmax\"))\n",
        "    # use a loss function, optimizer as adam to compile and evaluate model on accuracy\n",
        "    model.compile(loss=\"categorical_crossentropy\", optimizer=\"Adam\", metrics=[\"accuracy\"])\n",
        "\n",
        "    return model"
      ],
      "metadata": {
        "id": "w_8oxnsgJWLu"
      },
      "execution_count": null,
      "outputs": []
    },
    {
      "cell_type": "code",
      "source": [
        "model = build_model()\n",
        "history = model.fit(train_seq, train_star, epochs=10, validation_data=(valid_seq, valid_star), shuffle=True)"
      ],
      "metadata": {
        "colab": {
          "base_uri": "https://localhost:8080/"
        },
        "id": "Nj9PbG_FKCHH",
        "outputId": "314fa0e9-6a07-44df-a40d-d5ad54b6ddcb"
      },
      "execution_count": null,
      "outputs": [
        {
          "output_type": "stream",
          "name": "stdout",
          "text": [
            "Epoch 1/10\n",
            "6250/6250 [==============================] - 1258s 201ms/step - loss: 1.0953 - accuracy: 0.5245 - val_loss: 0.9551 - val_accuracy: 0.5837\n",
            "Epoch 2/10\n",
            "6250/6250 [==============================] - 1266s 203ms/step - loss: 0.9343 - accuracy: 0.6015 - val_loss: 0.9482 - val_accuracy: 0.5960\n",
            "Epoch 3/10\n",
            "6250/6250 [==============================] - 1270s 203ms/step - loss: 0.8650 - accuracy: 0.6358 - val_loss: 0.9314 - val_accuracy: 0.6014\n",
            "Epoch 4/10\n",
            "6250/6250 [==============================] - 1275s 204ms/step - loss: 0.8038 - accuracy: 0.6703 - val_loss: 0.9335 - val_accuracy: 0.6022\n",
            "Epoch 5/10\n",
            "6250/6250 [==============================] - 1260s 202ms/step - loss: 0.7448 - accuracy: 0.7025 - val_loss: 0.9743 - val_accuracy: 0.5962\n",
            "Epoch 6/10\n",
            "6250/6250 [==============================] - 1267s 203ms/step - loss: 0.6887 - accuracy: 0.7328 - val_loss: 1.0188 - val_accuracy: 0.5924\n",
            "Epoch 7/10\n",
            "6250/6250 [==============================] - 1254s 201ms/step - loss: 0.6354 - accuracy: 0.7564 - val_loss: 1.0726 - val_accuracy: 0.5849\n",
            "Epoch 8/10\n",
            "6250/6250 [==============================] - 1300s 208ms/step - loss: 0.5837 - accuracy: 0.7805 - val_loss: 1.1369 - val_accuracy: 0.5819\n",
            "Epoch 9/10\n",
            "6250/6250 [==============================] - 1265s 202ms/step - loss: 0.5376 - accuracy: 0.7998 - val_loss: 1.2466 - val_accuracy: 0.5761\n",
            "Epoch 10/10\n",
            "6250/6250 [==============================] - 1271s 203ms/step - loss: 0.4975 - accuracy: 0.8149 - val_loss: 1.3387 - val_accuracy: 0.5612\n"
          ]
        }
      ]
    },
    {
      "cell_type": "code",
      "source": [
        "epochs = range(1, 11)\n",
        "loss = [1.0953, 0.9343, 0.8650, 0.8038, 0.7448, 0.6887, 0.6354, 0.5837, 0.5376, 0.4975]\n",
        "val_loss = [0.9551, 0.9482, 0.9314, 0.9335, 0.9743, 1.0188, 1.0726, 1.1369, 1.2466, 1.3387]\n",
        "accuracy = [0.5245, 0.6015, 0.6358, 0.6703, 0.7025, 0.7328, 0.7564, 0.7805, 0.7998, 0.8149]\n",
        "val_accuracy = [0.5837, 0.5960, 0.6014, 0.6022, 0.5962, 0.5924, 0.5849, 0.5819, 0.5761, 0.5612]\n",
        "\n",
        "# Plotting Loss\n",
        "plt.figure(figsize=(10, 5))\n",
        "plt.subplot(1, 2, 1)\n",
        "plt.plot(epochs, loss, 'b-', label='Training Loss')\n",
        "plt.plot(epochs, val_loss, 'r-', label='Validation Loss')\n",
        "plt.title('Training and Validation Loss')\n",
        "plt.xlabel('Epoch')\n",
        "plt.ylabel('Loss')\n",
        "plt.legend()\n",
        "plt.grid()\n",
        "\n",
        "# Plotting Accuracy\n",
        "plt.subplot(1, 2, 2)\n",
        "plt.plot(epochs, accuracy, 'b-', label='Training Accuracy')\n",
        "plt.plot(epochs, val_accuracy, 'r-', label='Validation Accuracy')\n",
        "plt.title('Training and Validation Accuracy')\n",
        "plt.xlabel('Epoch')\n",
        "plt.ylabel('Accuracy')\n",
        "plt.legend()\n",
        "\n",
        "plt.tight_layout()\n",
        "plt.grid()\n",
        "plt.show()"
      ],
      "metadata": {
        "colab": {
          "base_uri": "https://localhost:8080/",
          "height": 507
        },
        "id": "ACFzYVL3PFIC",
        "outputId": "38c44573-5fbb-453d-a8c1-2a7b65dbe2cc"
      },
      "execution_count": null,
      "outputs": [
        {
          "output_type": "display_data",
          "data": {
            "text/plain": [
              "<Figure size 1000x500 with 2 Axes>"
            ],
            "image/png": "[encoded data removed]"
          },
          "metadata": {}
        }
      ]
    },
    {
      "cell_type": "markdown",
      "source": [
        "## Model Loading"
      ],
      "metadata": {
        "id": "wsjhd4A3j27r"
      }
    },
    {
      "cell_type": "code",
      "source": [
        "import pickle\n",
        "pickle.dump(model, open('lstm', 'wb'))"
      ],
      "metadata": {
        "id": "GcsnBp-NchwG"
      },
      "execution_count": null,
      "outputs": []
    },
    {
      "cell_type": "code",
      "source": [
        "import pickle\n",
        "saved_lstm = pickle.load(open('lstm', 'rb'))"
      ],
      "metadata": {
        "id": "8ZhIGDzQxUKG"
      },
      "execution_count": null,
      "outputs": []
    },
    {
      "cell_type": "markdown",
      "source": [
        "## Evaluation"
      ],
      "metadata": {
        "id": "LZge7WU0kqS7"
      }
    },
    {
      "cell_type": "code",
      "source": [
        "# K-fold cross validation for LSTM model\n",
        "\n",
        "k = 5 # set the fold k =5\n",
        "kf = KFold(n_splits=k, random_state=1,shuffle=True)\n",
        "model = saved_lstm\n",
        "\n",
        "cvscores = []\n",
        "x = np.append(train_rev,valid_rev)\n",
        "y = np.append(train_star,valid_star)\n",
        "\n",
        "for train, test in kf.split(x,y):\n",
        "\n",
        "    X_train, X_test, y_train, y_test = train_test_split(x, y, test_size = 0.2, random_state = None)\n",
        "\n",
        "    train_seq = tokenizer.texts_to_sequences(X_train)\n",
        "    valid_seq = tokenizer.texts_to_sequences(X_test)\n",
        "\n",
        "    X_train = pad_sequences(train_seq, padding='post', maxlen=max_len)\n",
        "    X_test = pad_sequences(valid_seq, padding='post', maxlen=max_len)\n",
        "\n",
        "    y_train = tf.one_hot(y_train, 6)\n",
        "    y_test = tf.one_hot(y_test, 6)\n",
        "\n",
        "\n",
        "    scores = saved_lstm.evaluate(X_test, y_test, verbose=1)\n",
        "    print(\"%s: %.2f%%\" % (model.metrics_names[1], scores[1]*100))\n",
        "    cvscores.append(scores[1] * 100)\n",
        "print(\"%.2f%% (+/- %.2f%%)\" % (np.mean(cvscores), np.std(cvscores)))"
      ],
      "metadata": {
        "colab": {
          "base_uri": "https://localhost:8080/"
        },
        "id": "bbeaNlzQasjT",
        "outputId": "78ae7a82-9930-42d7-d6d6-6c399529dca3"
      },
      "execution_count": null,
      "outputs": [
        {
          "output_type": "stream",
          "name": "stdout",
          "text": [
            "1563/1563 [==============================] - 49s 31ms/step - loss: 0.6015 - accuracy: 0.7849\n",
            "accuracy: 78.49%\n",
            "1563/1563 [==============================] - 49s 31ms/step - loss: 0.6054 - accuracy: 0.7842\n",
            "accuracy: 78.42%\n",
            "1563/1563 [==============================] - 52s 34ms/step - loss: 0.6051 - accuracy: 0.7824\n",
            "accuracy: 78.24%\n",
            "1563/1563 [==============================] - 48s 31ms/step - loss: 0.6076 - accuracy: 0.7827\n",
            "accuracy: 78.27%\n",
            "1563/1563 [==============================] - 48s 31ms/step - loss: 0.6060 - accuracy: 0.7830\n",
            "accuracy: 78.30%\n",
            "78.34% (+/- 0.09%)\n"
          ]
        }
      ]
    },
    {
      "cell_type": "markdown",
      "source": [
        "## Recommendation"
      ],
      "metadata": {
        "id": "lja-WJdFkwN7"
      }
    },
    {
      "cell_type": "code",
      "source": [
        "def predict_review(review):\n",
        "    review = clean_text(review)\n",
        "    review_seq = tokenizer.texts_to_sequences([review])\n",
        "    review_seq = pad_sequences(review_seq, padding='post', maxlen=max_len)\n",
        "    return (saved_lstm.predict(review_seq) > 0.5).astype(\"int32\")\n",
        "\n"
      ],
      "metadata": {
        "id": "xgpl8x8xpbkq"
      },
      "execution_count": null,
      "outputs": []
    },
    {
      "cell_type": "code",
      "source": [
        "review = \"The pretzel is good.A nice French restaurant in the Park Slope.\"\n",
        "returned = predict_review(review)\n",
        "for i, item in enumerate(returned[0]):\n",
        "    if item == 1:\n",
        "        prediction = i\n",
        "        break\n",
        "print(f'{review[:100]} -> {prediction:.2f}')"
      ],
      "metadata": {
        "colab": {
          "base_uri": "https://localhost:8080/"
        },
        "id": "28pMI5afuW4R",
        "outputId": "aa6565a5-4c86-43aa-a3b4-f6f13ef5fa8c"
      },
      "execution_count": null,
      "outputs": [
        {
          "output_type": "stream",
          "name": "stdout",
          "text": [
            "1/1 [==============================] - 0s 35ms/step\n",
            "The pretzel is good.A nice French restaurant in the Park Slope. -> 4.00\n"
          ]
        }
      ]
    },
    {
      "cell_type": "code",
      "source": [
        "from sklearn.feature_extraction.text import TfidfVectorizer\n",
        "from sklearn.metrics.pairwise import cosine_similarity\n",
        "import pandas as pd\n",
        "import numpy as np\n",
        "\n",
        "def clean_categories(text):\n",
        "    if pd.isna(text):  #NaN check\n",
        "        return ' '\n",
        "    # Convert to lowercase and remove \"|\"\n",
        "    cleaned_text = text.lower().replace('|', ' ')\n",
        "    return cleaned_text\n",
        "\n",
        "\n",
        "df = business_df[business_df['stars'] >= 3]\n",
        "df = df[df['city'] == 'Las Vegas']\n",
        "# Apply the cleaning function to the 'categories' column\n",
        "df['cleaned_categories'] = df['categories'].apply(clean_categories)\n",
        "\n",
        "vectorizer = TfidfVectorizer(stop_words='english')\n",
        "tfidf_matrix = vectorizer.fit_transform(df['cleaned_categories'])\n",
        "\n",
        "vectorizer.fit(df['cleaned_categories'])\n",
        "text = vectorizer.transform(df['cleaned_categories'])\n",
        "\n",
        "cosine_sim = cosine_similarity(tfidf_matrix)\n",
        "\n",
        "def get_recommendations(name, cosine_sim=cosine_sim):\n",
        "    idx =  df[df['name'] == name].index[0]\n",
        "    sim_scores = list(enumerate(cosine_sim[idx]))\n",
        "    sim_scores = sorted(sim_scores, key=lambda x: x[1], reverse=True)\n",
        "    sim_scores= sim_scores[1:11]\n",
        "    score = list((cosine_sim[idx]))\n",
        "    score = sorted(score, reverse=True)\n",
        "    score= score[1:11]\n",
        "    business_indices = [i[0] for i in sim_scores]\n",
        "    recommendations = df['name'].iloc[business_indices]\n",
        "    longitude = df['longitude'].iloc[business_indices]\n",
        "    latitude = df['latitude'].iloc[business_indices]\n",
        "    return pd.DataFrame({'name':recommendations,\n",
        "                         'score':score,\n",
        "                         'longitude': longitude,\n",
        "                         'latitude': latitude\n",
        "                         })\n"
      ],
      "metadata": {
        "id": "OgWqCnMYZcoa"
      },
      "execution_count": null,
      "outputs": []
    },
    {
      "cell_type": "code",
      "source": [
        "name = \"La Creperie\"\n",
        "recommendations = get_recommendations(name,cosine_sim)\n",
        "print(f\"Recommendations for {name} from high to low:\")\n",
        "print(recommendations)"
      ],
      "metadata": {
        "colab": {
          "base_uri": "https://localhost:8080/"
        },
        "id": "KQL1QtgRBvvW",
        "outputId": "c0abc74e-6537-4eb8-d9dd-c0c99451b524"
      },
      "execution_count": null,
      "outputs": [
        {
          "output_type": "stream",
          "name": "stdout",
          "text": [
            "Recommendations for La Creperie from high to low:\n",
            "                         name     score   longitude   latitude\n",
            "49235           Pretzel Maker  1.000000 -115.197260  36.172534\n",
            "54436        Wetzels Pretzels  1.000000 -115.185025  36.116382\n",
            "108204  Auntie Annes Pretzels  1.000000 -115.136987  36.086168\n",
            "171385             Pretzeland  1.000000 -115.174252  36.091267\n",
            "180714       Wetzels Pretzels  1.000000 -115.203082  36.277652\n",
            "16912   Auntie Annes Pretzels  0.875283 -115.172247  36.066778\n",
            "180575       Wetzels Pretzels  0.875283 -115.177063  36.068267\n",
            "93421        New York Pretzel  0.846407 -115.167443  36.102616\n",
            "118940    German Bread Bakery  0.846407 -115.119204  36.021162\n",
            "134872       New York Pretzel  0.846407 -115.169758  36.121558\n"
          ]
        }
      ]
    },
    {
      "cell_type": "code",
      "source": [],
      "metadata": {
        "id": "W_YlZx2e1oll"
      },
      "execution_count": null,
      "outputs": []
    },
    {
      "cell_type": "code",
      "source": [
        "import folium\n",
        "\n",
        "m = folium.Map(location=[recommendations['latitude'].mean(), recommendations['longitude'].mean()], zoom_start=5)\n",
        "\n",
        "# Add a marker for each location in the DataFrame\n",
        "for index, row in recommendations.iterrows():\n",
        "    folium.Marker([row['latitude'], row['longitude']], popup=row['name']).add_to(m)\n",
        "\n",
        "# Display the map\n",
        "m"
      ],
      "metadata": {
        "colab": {
          "base_uri": "https://localhost:8080/",
          "height": 914
        },
        "id": "SDQiioyIRLUe",
        "outputId": "c00b0091-9fce-4e46-bfb4-621998ea9dea"
      },
      "execution_count": null,
      "outputs": [
        {
          "output_type": "execute_result",
          "data": {
            "text/plain": [
              "<folium.folium.Map at 0x7945ce592d40>"
            ],
            "text/html": [
              "<div style=\"width:100%;\"><div style=\"position:relative;width:100%;height:0;padding-bottom:60%;\"><span style=\"color:#565656\">Make this Notebook Trusted to load map: File -> Trust Notebook</span><iframe srcdoc=\"&lt;!DOCTYPE html&gt;\n",
              "&lt;html&gt;\n",
              "&lt;head&gt;\n",
              "    \n",
              "    &lt;meta http-equiv=&quot;content-type&quot; content=&quot;text/html; charset=UTF-8&quot; /&gt;\n",
              "    \n",
              "        &lt;script&gt;\n",
              "            L_NO_TOUCH = false;\n",
              "            L_DISABLE_3D = false;\n",
              "        &lt;/script&gt;\n",
              "    \n",
              "    &lt;style&gt;html, body {width: 100%;height: 100%;margin: 0;padding: 0;}&lt;/style&gt;\n",
              "    &lt;style&gt;#map {position:absolute;top:0;bottom:0;right:0;left:0;}&lt;/style&gt;\n",
              "    &lt;script src=&quot;https://cdn.jsdelivr.net/npm/leaflet@1.9.3/dist/leaflet.js&quot;&gt;&lt;/script&gt;\n",
              "    &lt;script src=&quot;https://code.jquery.com/jquery-1.12.4.min.js&quot;&gt;&lt;/script&gt;\n",
              "    &lt;script src=&quot;https://cdn.jsdelivr.net/npm/bootstrap@5.2.2/dist/js/bootstrap.bundle.min.js&quot;&gt;&lt;/script&gt;\n",
              "    &lt;script src=&quot;https://cdnjs.cloudflare.com/ajax/libs/Leaflet.awesome-markers/2.0.2/leaflet.awesome-markers.js&quot;&gt;&lt;/script&gt;\n",
              "    &lt;link rel=&quot;stylesheet&quot; href=&quot;https://cdn.jsdelivr.net/npm/leaflet@1.9.3/dist/leaflet.css&quot;/&gt;\n",
              "    &lt;link rel=&quot;stylesheet&quot; href=&quot;https://cdn.jsdelivr.net/npm/bootstrap@5.2.2/dist/css/bootstrap.min.css&quot;/&gt;\n",
              "    &lt;link rel=&quot;stylesheet&quot; href=&quot;https://netdna.bootstrapcdn.com/bootstrap/3.0.0/css/bootstrap.min.css&quot;/&gt;\n",
              "    &lt;link rel=&quot;stylesheet&quot; href=&quot;https://cdn.jsdelivr.net/npm/@fortawesome/fontawesome-free@6.2.0/css/all.min.css&quot;/&gt;\n",
              "    &lt;link rel=&quot;stylesheet&quot; href=&quot;https://cdnjs.cloudflare.com/ajax/libs/Leaflet.awesome-markers/2.0.2/leaflet.awesome-markers.css&quot;/&gt;\n",
              "    &lt;link rel=&quot;stylesheet&quot; href=&quot;https://cdn.jsdelivr.net/gh/python-visualization/folium/folium/templates/leaflet.awesome.rotate.min.css&quot;/&gt;\n",
              "    \n",
              "            &lt;meta name=&quot;viewport&quot; content=&quot;width=device-width,\n",
              "                initial-scale=1.0, maximum-scale=1.0, user-scalable=no&quot; /&gt;\n",
              "            &lt;style&gt;\n",
              "                #map_364cd15612f426633eb8f6b03a789208 {\n",
              "                    position: relative;\n",
              "                    width: 100.0%;\n",
              "                    height: 100.0%;\n",
              "                    left: 0.0%;\n",
              "                    top: 0.0%;\n",
              "                }\n",
              "                .leaflet-container { font-size: 1rem; }\n",
              "            &lt;/style&gt;\n",
              "        \n",
              "&lt;/head&gt;\n",
              "&lt;body&gt;\n",
              "    \n",
              "    \n",
              "            &lt;div class=&quot;folium-map&quot; id=&quot;map_364cd15612f426633eb8f6b03a789208&quot; &gt;&lt;/div&gt;\n",
              "        \n",
              "&lt;/body&gt;\n",
              "&lt;script&gt;\n",
              "    \n",
              "    \n",
              "            var map_364cd15612f426633eb8f6b03a789208 = L.map(\n",
              "                &quot;map_364cd15612f426633eb8f6b03a789208&quot;,\n",
              "                {\n",
              "                    center: [36.112438368999996, -115.17023218],\n",
              "                    crs: L.CRS.EPSG3857,\n",
              "                    zoom: 5,\n",
              "                    zoomControl: true,\n",
              "                    preferCanvas: false,\n",
              "                }\n",
              "            );\n",
              "\n",
              "            \n",
              "\n",
              "        \n",
              "    \n",
              "            var tile_layer_1c777d97ac24251c0f7f7c6e91135d17 = L.tileLayer(\n",
              "                &quot;https://{s}.tile.openstreetmap.org/{z}/{x}/{y}.png&quot;,\n",
              "                {&quot;attribution&quot;: &quot;Data by \\u0026copy; \\u003ca target=\\&quot;_blank\\&quot; href=\\&quot;http://openstreetmap.org\\&quot;\\u003eOpenStreetMap\\u003c/a\\u003e, under \\u003ca target=\\&quot;_blank\\&quot; href=\\&quot;http://www.openstreetmap.org/copyright\\&quot;\\u003eODbL\\u003c/a\\u003e.&quot;, &quot;detectRetina&quot;: false, &quot;maxNativeZoom&quot;: 18, &quot;maxZoom&quot;: 18, &quot;minZoom&quot;: 0, &quot;noWrap&quot;: false, &quot;opacity&quot;: 1, &quot;subdomains&quot;: &quot;abc&quot;, &quot;tms&quot;: false}\n",
              "            ).addTo(map_364cd15612f426633eb8f6b03a789208);\n",
              "        \n",
              "    \n",
              "            var marker_f1f903632206aaaeabb8a6ef0a2c488c = L.marker(\n",
              "                [36.172534, -115.19726],\n",
              "                {}\n",
              "            ).addTo(map_364cd15612f426633eb8f6b03a789208);\n",
              "        \n",
              "    \n",
              "        var popup_8c01c24e46648baeae1645cd01c177a5 = L.popup({&quot;maxWidth&quot;: &quot;100%&quot;});\n",
              "\n",
              "        \n",
              "            \n",
              "                var html_db1b82d932048fd9068d2faf087438c3 = $(`&lt;div id=&quot;html_db1b82d932048fd9068d2faf087438c3&quot; style=&quot;width: 100.0%; height: 100.0%;&quot;&gt;Pretzel Maker&lt;/div&gt;`)[0];\n",
              "                popup_8c01c24e46648baeae1645cd01c177a5.setContent(html_db1b82d932048fd9068d2faf087438c3);\n",
              "            \n",
              "        \n",
              "\n",
              "        marker_f1f903632206aaaeabb8a6ef0a2c488c.bindPopup(popup_8c01c24e46648baeae1645cd01c177a5)\n",
              "        ;\n",
              "\n",
              "        \n",
              "    \n",
              "    \n",
              "            var marker_4587f353000757a628f8e52ff82fa0da = L.marker(\n",
              "                [36.1163819, -115.1850253],\n",
              "                {}\n",
              "            ).addTo(map_364cd15612f426633eb8f6b03a789208);\n",
              "        \n",
              "    \n",
              "        var popup_f09e9b4779e9e48fa762321a392537cb = L.popup({&quot;maxWidth&quot;: &quot;100%&quot;});\n",
              "\n",
              "        \n",
              "            \n",
              "                var html_736f2e6eb944b4d20148f0071ff1fdac = $(`&lt;div id=&quot;html_736f2e6eb944b4d20148f0071ff1fdac&quot; style=&quot;width: 100.0%; height: 100.0%;&quot;&gt;Wetzels Pretzels&lt;/div&gt;`)[0];\n",
              "                popup_f09e9b4779e9e48fa762321a392537cb.setContent(html_736f2e6eb944b4d20148f0071ff1fdac);\n",
              "            \n",
              "        \n",
              "\n",
              "        marker_4587f353000757a628f8e52ff82fa0da.bindPopup(popup_f09e9b4779e9e48fa762321a392537cb)\n",
              "        ;\n",
              "\n",
              "        \n",
              "    \n",
              "    \n",
              "            var marker_365825736619942510e445da9d929b3f = L.marker(\n",
              "                [36.0861679, -115.1369865],\n",
              "                {}\n",
              "            ).addTo(map_364cd15612f426633eb8f6b03a789208);\n",
              "        \n",
              "    \n",
              "        var popup_3c05ffb6e8be316eede5dfc6bf234448 = L.popup({&quot;maxWidth&quot;: &quot;100%&quot;});\n",
              "\n",
              "        \n",
              "            \n",
              "                var html_469db4e9a8d1d29fa8e9d6514277d3c2 = $(`&lt;div id=&quot;html_469db4e9a8d1d29fa8e9d6514277d3c2&quot; style=&quot;width: 100.0%; height: 100.0%;&quot;&gt;Auntie Annes Pretzels&lt;/div&gt;`)[0];\n",
              "                popup_3c05ffb6e8be316eede5dfc6bf234448.setContent(html_469db4e9a8d1d29fa8e9d6514277d3c2);\n",
              "            \n",
              "        \n",
              "\n",
              "        marker_365825736619942510e445da9d929b3f.bindPopup(popup_3c05ffb6e8be316eede5dfc6bf234448)\n",
              "        ;\n",
              "\n",
              "        \n",
              "    \n",
              "    \n",
              "            var marker_864e20568cbb41972fe8e0ec99270444 = L.marker(\n",
              "                [36.091267, -115.174252],\n",
              "                {}\n",
              "            ).addTo(map_364cd15612f426633eb8f6b03a789208);\n",
              "        \n",
              "    \n",
              "        var popup_9e3f213c841475bc74c2438530b7f24e = L.popup({&quot;maxWidth&quot;: &quot;100%&quot;});\n",
              "\n",
              "        \n",
              "            \n",
              "                var html_0598472064aa0ee6d20e1c6f167858fa = $(`&lt;div id=&quot;html_0598472064aa0ee6d20e1c6f167858fa&quot; style=&quot;width: 100.0%; height: 100.0%;&quot;&gt;Pretzeland&lt;/div&gt;`)[0];\n",
              "                popup_9e3f213c841475bc74c2438530b7f24e.setContent(html_0598472064aa0ee6d20e1c6f167858fa);\n",
              "            \n",
              "        \n",
              "\n",
              "        marker_864e20568cbb41972fe8e0ec99270444.bindPopup(popup_9e3f213c841475bc74c2438530b7f24e)\n",
              "        ;\n",
              "\n",
              "        \n",
              "    \n",
              "    \n",
              "            var marker_3221489b75c2c5e5137db1e537fc1a8f = L.marker(\n",
              "                [36.2776518, -115.203082],\n",
              "                {}\n",
              "            ).addTo(map_364cd15612f426633eb8f6b03a789208);\n",
              "        \n",
              "    \n",
              "        var popup_eafdc4ef35d2d7a370bdb12ce43a65e2 = L.popup({&quot;maxWidth&quot;: &quot;100%&quot;});\n",
              "\n",
              "        \n",
              "            \n",
              "                var html_281097164870044e94ecb3ae1e3c8c55 = $(`&lt;div id=&quot;html_281097164870044e94ecb3ae1e3c8c55&quot; style=&quot;width: 100.0%; height: 100.0%;&quot;&gt;Wetzels Pretzels&lt;/div&gt;`)[0];\n",
              "                popup_eafdc4ef35d2d7a370bdb12ce43a65e2.setContent(html_281097164870044e94ecb3ae1e3c8c55);\n",
              "            \n",
              "        \n",
              "\n",
              "        marker_3221489b75c2c5e5137db1e537fc1a8f.bindPopup(popup_eafdc4ef35d2d7a370bdb12ce43a65e2)\n",
              "        ;\n",
              "\n",
              "        \n",
              "    \n",
              "    \n",
              "            var marker_d71023ebb3516b579ffe4b27d172ce39 = L.marker(\n",
              "                [36.0667781, -115.1722474],\n",
              "                {}\n",
              "            ).addTo(map_364cd15612f426633eb8f6b03a789208);\n",
              "        \n",
              "    \n",
              "        var popup_b4d194185d5bcb0ee45d492310e13e2d = L.popup({&quot;maxWidth&quot;: &quot;100%&quot;});\n",
              "\n",
              "        \n",
              "            \n",
              "                var html_eb7b1569e492efa1a446ae536e14a263 = $(`&lt;div id=&quot;html_eb7b1569e492efa1a446ae536e14a263&quot; style=&quot;width: 100.0%; height: 100.0%;&quot;&gt;Auntie Annes Pretzels&lt;/div&gt;`)[0];\n",
              "                popup_b4d194185d5bcb0ee45d492310e13e2d.setContent(html_eb7b1569e492efa1a446ae536e14a263);\n",
              "            \n",
              "        \n",
              "\n",
              "        marker_d71023ebb3516b579ffe4b27d172ce39.bindPopup(popup_b4d194185d5bcb0ee45d492310e13e2d)\n",
              "        ;\n",
              "\n",
              "        \n",
              "    \n",
              "    \n",
              "            var marker_9a65318fd310b8602954ed133d6dff42 = L.marker(\n",
              "                [36.068267, -115.177063],\n",
              "                {}\n",
              "            ).addTo(map_364cd15612f426633eb8f6b03a789208);\n",
              "        \n",
              "    \n",
              "        var popup_fa66c39f45ec03cfc8bc4b6beb603fdc = L.popup({&quot;maxWidth&quot;: &quot;100%&quot;});\n",
              "\n",
              "        \n",
              "            \n",
              "                var html_2f6f6e95b556b879fb8153c7c791601c = $(`&lt;div id=&quot;html_2f6f6e95b556b879fb8153c7c791601c&quot; style=&quot;width: 100.0%; height: 100.0%;&quot;&gt;Wetzels Pretzels&lt;/div&gt;`)[0];\n",
              "                popup_fa66c39f45ec03cfc8bc4b6beb603fdc.setContent(html_2f6f6e95b556b879fb8153c7c791601c);\n",
              "            \n",
              "        \n",
              "\n",
              "        marker_9a65318fd310b8602954ed133d6dff42.bindPopup(popup_fa66c39f45ec03cfc8bc4b6beb603fdc)\n",
              "        ;\n",
              "\n",
              "        \n",
              "    \n",
              "    \n",
              "            var marker_1cc92498f346a477fde7239a8768305f = L.marker(\n",
              "                [36.10261608, -115.1674434],\n",
              "                {}\n",
              "            ).addTo(map_364cd15612f426633eb8f6b03a789208);\n",
              "        \n",
              "    \n",
              "        var popup_2773c2c673ca59e0f348cd85a0cc1473 = L.popup({&quot;maxWidth&quot;: &quot;100%&quot;});\n",
              "\n",
              "        \n",
              "            \n",
              "                var html_f61befb3eabea162ce15233dd2e86a00 = $(`&lt;div id=&quot;html_f61befb3eabea162ce15233dd2e86a00&quot; style=&quot;width: 100.0%; height: 100.0%;&quot;&gt;New York Pretzel&lt;/div&gt;`)[0];\n",
              "                popup_2773c2c673ca59e0f348cd85a0cc1473.setContent(html_f61befb3eabea162ce15233dd2e86a00);\n",
              "            \n",
              "        \n",
              "\n",
              "        marker_1cc92498f346a477fde7239a8768305f.bindPopup(popup_2773c2c673ca59e0f348cd85a0cc1473)\n",
              "        ;\n",
              "\n",
              "        \n",
              "    \n",
              "    \n",
              "            var marker_f8c2c0db69bb4953baa5354191edd415 = L.marker(\n",
              "                [36.02116191, -115.1192042],\n",
              "                {}\n",
              "            ).addTo(map_364cd15612f426633eb8f6b03a789208);\n",
              "        \n",
              "    \n",
              "        var popup_cf0b7191af13deafb175033573347d81 = L.popup({&quot;maxWidth&quot;: &quot;100%&quot;});\n",
              "\n",
              "        \n",
              "            \n",
              "                var html_b0ce75cd114ac7544233a60cd0cabfc5 = $(`&lt;div id=&quot;html_b0ce75cd114ac7544233a60cd0cabfc5&quot; style=&quot;width: 100.0%; height: 100.0%;&quot;&gt;German Bread Bakery&lt;/div&gt;`)[0];\n",
              "                popup_cf0b7191af13deafb175033573347d81.setContent(html_b0ce75cd114ac7544233a60cd0cabfc5);\n",
              "            \n",
              "        \n",
              "\n",
              "        marker_f8c2c0db69bb4953baa5354191edd415.bindPopup(popup_cf0b7191af13deafb175033573347d81)\n",
              "        ;\n",
              "\n",
              "        \n",
              "    \n",
              "    \n",
              "            var marker_33a6df61c2a1dcbaf378922e68fde0b0 = L.marker(\n",
              "                [36.121558, -115.169758],\n",
              "                {}\n",
              "            ).addTo(map_364cd15612f426633eb8f6b03a789208);\n",
              "        \n",
              "    \n",
              "        var popup_618c2c3996eff951b9504ac1e76f246c = L.popup({&quot;maxWidth&quot;: &quot;100%&quot;});\n",
              "\n",
              "        \n",
              "            \n",
              "                var html_aa62f5fbabd26fa758bdd9683f0c5889 = $(`&lt;div id=&quot;html_aa62f5fbabd26fa758bdd9683f0c5889&quot; style=&quot;width: 100.0%; height: 100.0%;&quot;&gt;New York Pretzel&lt;/div&gt;`)[0];\n",
              "                popup_618c2c3996eff951b9504ac1e76f246c.setContent(html_aa62f5fbabd26fa758bdd9683f0c5889);\n",
              "            \n",
              "        \n",
              "\n",
              "        marker_33a6df61c2a1dcbaf378922e68fde0b0.bindPopup(popup_618c2c3996eff951b9504ac1e76f246c)\n",
              "        ;\n",
              "\n",
              "        \n",
              "    \n",
              "&lt;/script&gt;\n",
              "&lt;/html&gt;\" style=\"position:absolute;width:100%;height:100%;left:0;top:0;border:none !important;\" allowfullscreen webkitallowfullscreen mozallowfullscreen></iframe></div></div>"
            ]
          },
          "metadata": {},
          "execution_count": 17
        }
      ]
    }
  ]
}